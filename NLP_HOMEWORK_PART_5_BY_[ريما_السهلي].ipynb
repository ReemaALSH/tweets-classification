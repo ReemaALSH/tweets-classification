{
  "cells": [
    {
      "cell_type": "markdown",
      "id": "62cc974c",
      "metadata": {
        "id": "62cc974c"
      },
      "source": [
        "# Text classifiction"
      ]
    },
    {
      "cell_type": "markdown",
      "id": "e7efe140",
      "metadata": {
        "id": "e7efe140"
      },
      "source": [
        "# Step [1]: Prepare libraries and data"
      ]
    },
    {
      "cell_type": "markdown",
      "id": "8e9b1951",
      "metadata": {
        "id": "8e9b1951"
      },
      "source": [
        "## [1.1] Include important libraries"
      ]
    },
    {
      "cell_type": "code",
      "source": [
        "from google.colab import drive\n",
        "drive.mount('/content/drive')"
      ],
      "metadata": {
        "colab": {
          "base_uri": "https://localhost:8080/"
        },
        "id": "ghpznNMAjo77",
        "outputId": "b563c2cb-e0ce-4afd-9fbd-c273f860ba79"
      },
      "id": "ghpznNMAjo77",
      "execution_count": null,
      "outputs": [
        {
          "output_type": "stream",
          "name": "stdout",
          "text": [
            "Drive already mounted at /content/drive; to attempt to forcibly remount, call drive.mount(\"/content/drive\", force_remount=True).\n"
          ]
        }
      ]
    },
    {
      "cell_type": "code",
      "execution_count": null,
      "id": "af6058ed",
      "metadata": {
        "id": "af6058ed"
      },
      "outputs": [],
      "source": [
        "import re\n",
        "import nltk\n",
        "import matplotlib\n",
        "import numpy as np\n",
        "import pandas as pd\n",
        "import seaborn as sns\n",
        "import tensorflow as tf\n",
        "import matplotlib.pyplot as plt         \n",
        "from wordcloud import WordCloud"
      ]
    },
    {
      "cell_type": "markdown",
      "id": "229df102",
      "metadata": {
        "id": "229df102"
      },
      "source": [
        "## [1.2] Download data"
      ]
    },
    {
      "cell_type": "code",
      "execution_count": null,
      "id": "5504e7ee",
      "metadata": {
        "id": "5504e7ee"
      },
      "outputs": [],
      "source": [
        "# !wget 'https://drive.google.com/uc?export=download&id=1KepfzAhJ7dloG8XaWQf0ovQipDHYS8aI' -O 'final_data.zip'"
      ]
    },
    {
      "cell_type": "code",
      "execution_count": null,
      "id": "530e1bac",
      "metadata": {
        "id": "530e1bac"
      },
      "outputs": [],
      "source": [
        "# !unzip final_data.zip"
      ]
    },
    {
      "cell_type": "code",
      "source": [
        "nltk.download('stopwords')"
      ],
      "metadata": {
        "colab": {
          "base_uri": "https://localhost:8080/"
        },
        "id": "rATiLJQpkomi",
        "outputId": "4ddfddbc-2902-44fa-d02a-95d5f084824e"
      },
      "id": "rATiLJQpkomi",
      "execution_count": null,
      "outputs": [
        {
          "output_type": "stream",
          "name": "stdout",
          "text": [
            "[nltk_data] Downloading package stopwords to /root/nltk_data...\n",
            "[nltk_data]   Package stopwords is already up-to-date!\n"
          ]
        },
        {
          "output_type": "execute_result",
          "data": {
            "text/plain": [
              "True"
            ]
          },
          "metadata": {},
          "execution_count": 5
        }
      ]
    },
    {
      "cell_type": "markdown",
      "id": "3400638b",
      "metadata": {
        "id": "3400638b"
      },
      "source": [
        "## [1.3] read data from csv file"
      ]
    },
    {
      "cell_type": "code",
      "execution_count": null,
      "id": "d41a9612",
      "metadata": {
        "scrolled": true,
        "colab": {
          "base_uri": "https://localhost:8080/",
          "height": 204
        },
        "id": "d41a9612",
        "outputId": "9b05e36f-91b0-4f9a-f263-da689e084dd2"
      },
      "outputs": [
        {
          "output_type": "execute_result",
          "data": {
            "text/html": [
              "\n",
              "  <div id=\"df-f739a639-a6b0-449e-b007-b4e537c742a9\">\n",
              "    <div class=\"colab-df-container\">\n",
              "      <div>\n",
              "<style scoped>\n",
              "    .dataframe tbody tr th:only-of-type {\n",
              "        vertical-align: middle;\n",
              "    }\n",
              "\n",
              "    .dataframe tbody tr th {\n",
              "        vertical-align: top;\n",
              "    }\n",
              "\n",
              "    .dataframe thead th {\n",
              "        text-align: right;\n",
              "    }\n",
              "</style>\n",
              "<table border=\"1\" class=\"dataframe\">\n",
              "  <thead>\n",
              "    <tr style=\"text-align: right;\">\n",
              "      <th></th>\n",
              "      <th>tweet</th>\n",
              "      <th>label</th>\n",
              "    </tr>\n",
              "  </thead>\n",
              "  <tbody>\n",
              "    <tr>\n",
              "      <th>19352</th>\n",
              "      <td>الهند تكسر رقم جديد من حيث الاصابات بالوباء  8...</td>\n",
              "      <td>3</td>\n",
              "    </tr>\n",
              "    <tr>\n",
              "      <th>19353</th>\n",
              "      <td>#جنوب_أفريقيا تبيع لقاح « #استرازينيكا » المضا...</td>\n",
              "      <td>3</td>\n",
              "    </tr>\n",
              "    <tr>\n",
              "      <th>19354</th>\n",
              "      <td>منظمة الصحة العالمية: سلالة كورونا الجديدة الم...</td>\n",
              "      <td>3</td>\n",
              "    </tr>\n",
              "    <tr>\n",
              "      <th>19355</th>\n",
              "      <td>#توزيع_فوط_مجانا #زواج_وليد_الشمري  #جايه_معاك...</td>\n",
              "      <td>2</td>\n",
              "    </tr>\n",
              "    <tr>\n",
              "      <th>19356</th>\n",
              "      <td>@bint__althani وزير الصحة البريطاني فيروس جديد...</td>\n",
              "      <td>2</td>\n",
              "    </tr>\n",
              "  </tbody>\n",
              "</table>\n",
              "</div>\n",
              "      <button class=\"colab-df-convert\" onclick=\"convertToInteractive('df-f739a639-a6b0-449e-b007-b4e537c742a9')\"\n",
              "              title=\"Convert this dataframe to an interactive table.\"\n",
              "              style=\"display:none;\">\n",
              "        \n",
              "  <svg xmlns=\"http://www.w3.org/2000/svg\" height=\"24px\"viewBox=\"0 0 24 24\"\n",
              "       width=\"24px\">\n",
              "    <path d=\"M0 0h24v24H0V0z\" fill=\"none\"/>\n",
              "    <path d=\"M18.56 5.44l.94 2.06.94-2.06 2.06-.94-2.06-.94-.94-2.06-.94 2.06-2.06.94zm-11 1L8.5 8.5l.94-2.06 2.06-.94-2.06-.94L8.5 2.5l-.94 2.06-2.06.94zm10 10l.94 2.06.94-2.06 2.06-.94-2.06-.94-.94-2.06-.94 2.06-2.06.94z\"/><path d=\"M17.41 7.96l-1.37-1.37c-.4-.4-.92-.59-1.43-.59-.52 0-1.04.2-1.43.59L10.3 9.45l-7.72 7.72c-.78.78-.78 2.05 0 2.83L4 21.41c.39.39.9.59 1.41.59.51 0 1.02-.2 1.41-.59l7.78-7.78 2.81-2.81c.8-.78.8-2.07 0-2.86zM5.41 20L4 18.59l7.72-7.72 1.47 1.35L5.41 20z\"/>\n",
              "  </svg>\n",
              "      </button>\n",
              "      \n",
              "  <style>\n",
              "    .colab-df-container {\n",
              "      display:flex;\n",
              "      flex-wrap:wrap;\n",
              "      gap: 12px;\n",
              "    }\n",
              "\n",
              "    .colab-df-convert {\n",
              "      background-color: #E8F0FE;\n",
              "      border: none;\n",
              "      border-radius: 50%;\n",
              "      cursor: pointer;\n",
              "      display: none;\n",
              "      fill: #1967D2;\n",
              "      height: 32px;\n",
              "      padding: 0 0 0 0;\n",
              "      width: 32px;\n",
              "    }\n",
              "\n",
              "    .colab-df-convert:hover {\n",
              "      background-color: #E2EBFA;\n",
              "      box-shadow: 0px 1px 2px rgba(60, 64, 67, 0.3), 0px 1px 3px 1px rgba(60, 64, 67, 0.15);\n",
              "      fill: #174EA6;\n",
              "    }\n",
              "\n",
              "    [theme=dark] .colab-df-convert {\n",
              "      background-color: #3B4455;\n",
              "      fill: #D2E3FC;\n",
              "    }\n",
              "\n",
              "    [theme=dark] .colab-df-convert:hover {\n",
              "      background-color: #434B5C;\n",
              "      box-shadow: 0px 1px 3px 1px rgba(0, 0, 0, 0.15);\n",
              "      filter: drop-shadow(0px 1px 2px rgba(0, 0, 0, 0.3));\n",
              "      fill: #FFFFFF;\n",
              "    }\n",
              "  </style>\n",
              "\n",
              "      <script>\n",
              "        const buttonEl =\n",
              "          document.querySelector('#df-f739a639-a6b0-449e-b007-b4e537c742a9 button.colab-df-convert');\n",
              "        buttonEl.style.display =\n",
              "          google.colab.kernel.accessAllowed ? 'block' : 'none';\n",
              "\n",
              "        async function convertToInteractive(key) {\n",
              "          const element = document.querySelector('#df-f739a639-a6b0-449e-b007-b4e537c742a9');\n",
              "          const dataTable =\n",
              "            await google.colab.kernel.invokeFunction('convertToInteractive',\n",
              "                                                     [key], {});\n",
              "          if (!dataTable) return;\n",
              "\n",
              "          const docLinkHtml = 'Like what you see? Visit the ' +\n",
              "            '<a target=\"_blank\" href=https://colab.research.google.com/notebooks/data_table.ipynb>data table notebook</a>'\n",
              "            + ' to learn more about interactive tables.';\n",
              "          element.innerHTML = '';\n",
              "          dataTable['output_type'] = 'display_data';\n",
              "          await google.colab.output.renderOutput(dataTable, element);\n",
              "          const docLink = document.createElement('div');\n",
              "          docLink.innerHTML = docLinkHtml;\n",
              "          element.appendChild(docLink);\n",
              "        }\n",
              "      </script>\n",
              "    </div>\n",
              "  </div>\n",
              "  "
            ],
            "text/plain": [
              "                                                   tweet  label\n",
              "19352  الهند تكسر رقم جديد من حيث الاصابات بالوباء  8...      3\n",
              "19353  #جنوب_أفريقيا تبيع لقاح « #استرازينيكا » المضا...      3\n",
              "19354  منظمة الصحة العالمية: سلالة كورونا الجديدة الم...      3\n",
              "19355  #توزيع_فوط_مجانا #زواج_وليد_الشمري  #جايه_معاك...      2\n",
              "19356  @bint__althani وزير الصحة البريطاني فيروس جديد...      2"
            ]
          },
          "metadata": {},
          "execution_count": 6
        }
      ],
      "source": [
        "data = pd.read_csv(\"/content/drive/MyDrive/NLP H1/train.csv\",encoding='utf-8')# shearch for  encoding='utf-8'\n",
        "test = pd.read_csv(\"/content/drive/MyDrive/NLP H1/test.csv\",encoding='utf-8')\n",
        "data.tail()"
      ]
    },
    {
      "cell_type": "markdown",
      "id": "4ec48c7b",
      "metadata": {
        "id": "4ec48c7b"
      },
      "source": [
        "## [1.4] Prapere The Comparison Dictionary"
      ]
    },
    {
      "cell_type": "code",
      "execution_count": null,
      "id": "dfcdcdfc",
      "metadata": {
        "id": "dfcdcdfc"
      },
      "outputs": [],
      "source": [
        "model_comparison_table = {}"
      ]
    },
    {
      "cell_type": "code",
      "execution_count": null,
      "id": "0428b0f2",
      "metadata": {
        "id": "0428b0f2"
      },
      "outputs": [],
      "source": [
        "model_comparison_table['model_name'] = []\n",
        "model_comparison_table['preprocessing_methods'] = []\n",
        "model_comparison_table['accuracy'] = []"
      ]
    },
    {
      "cell_type": "code",
      "execution_count": null,
      "id": "ba758991",
      "metadata": {
        "id": "ba758991"
      },
      "outputs": [],
      "source": [
        "def add_to_dictionary(model_name,preprocessing_methods,accuracy):  \n",
        "    \"\"\"add detaisl to dictionary\"\"\"\n",
        "    model_comparison_table['model_name'].append(model_name)\n",
        "    model_comparison_table['preprocessing_methods'].append(preprocessing_methods)\n",
        "    model_comparison_table['accuracy'].append(accuracy)\n"
      ]
    },
    {
      "cell_type": "markdown",
      "id": "56af428d",
      "metadata": {
        "id": "56af428d"
      },
      "source": [
        "# Step [2]:  Discover and visualize the data"
      ]
    },
    {
      "cell_type": "markdown",
      "id": "016322d3",
      "metadata": {
        "id": "016322d3"
      },
      "source": [
        "## [2.1]: Data discovery"
      ]
    },
    {
      "cell_type": "code",
      "execution_count": null,
      "id": "a2330277",
      "metadata": {
        "scrolled": true,
        "colab": {
          "base_uri": "https://localhost:8080/"
        },
        "id": "a2330277",
        "outputId": "9aa136a9-7f13-44d1-dd37-5a33f6e372aa"
      },
      "outputs": [
        {
          "output_type": "execute_result",
          "data": {
            "text/plain": [
              "(19357, 2)"
            ]
          },
          "metadata": {},
          "execution_count": 10
        }
      ],
      "source": [
        "data.shape"
      ]
    },
    {
      "cell_type": "code",
      "execution_count": null,
      "id": "75e0fa85",
      "metadata": {
        "scrolled": true,
        "colab": {
          "base_uri": "https://localhost:8080/",
          "height": 204
        },
        "id": "75e0fa85",
        "outputId": "a3105644-3588-4b48-9c9d-472203692452"
      },
      "outputs": [
        {
          "output_type": "execute_result",
          "data": {
            "text/html": [
              "\n",
              "  <div id=\"df-c246a339-f9ba-4f5e-b236-56456e85f074\">\n",
              "    <div class=\"colab-df-container\">\n",
              "      <div>\n",
              "<style scoped>\n",
              "    .dataframe tbody tr th:only-of-type {\n",
              "        vertical-align: middle;\n",
              "    }\n",
              "\n",
              "    .dataframe tbody tr th {\n",
              "        vertical-align: top;\n",
              "    }\n",
              "\n",
              "    .dataframe thead th {\n",
              "        text-align: right;\n",
              "    }\n",
              "</style>\n",
              "<table border=\"1\" class=\"dataframe\">\n",
              "  <thead>\n",
              "    <tr style=\"text-align: right;\">\n",
              "      <th></th>\n",
              "      <th>tweet</th>\n",
              "      <th>label</th>\n",
              "    </tr>\n",
              "  </thead>\n",
              "  <tbody>\n",
              "    <tr>\n",
              "      <th>0</th>\n",
              "      <td>#تبني_قطط_انقاذ من الخاص هاااام كيتن أنثى عمره...</td>\n",
              "      <td>2</td>\n",
              "    </tr>\n",
              "    <tr>\n",
              "      <th>1</th>\n",
              "      <td>'#خذ_الخطوة_خذ_اللقاح \\nالحمدالله من قبل ومن ب...</td>\n",
              "      <td>1</td>\n",
              "    </tr>\n",
              "    <tr>\n",
              "      <th>2</th>\n",
              "      <td>لو اللي مثلك وشرواك طعمو كان قد حذفنا الكمامات...</td>\n",
              "      <td>1</td>\n",
              "    </tr>\n",
              "    <tr>\n",
              "      <th>3</th>\n",
              "      <td>#الصحة:•نحو 14.5 مليون شخص تم إعطاؤهم جرعة لقا...</td>\n",
              "      <td>1</td>\n",
              "    </tr>\n",
              "    <tr>\n",
              "      <th>4</th>\n",
              "      <td>• في منظور القوة البشرية ( الأزمة ستطول لأشهر ...</td>\n",
              "      <td>3</td>\n",
              "    </tr>\n",
              "  </tbody>\n",
              "</table>\n",
              "</div>\n",
              "      <button class=\"colab-df-convert\" onclick=\"convertToInteractive('df-c246a339-f9ba-4f5e-b236-56456e85f074')\"\n",
              "              title=\"Convert this dataframe to an interactive table.\"\n",
              "              style=\"display:none;\">\n",
              "        \n",
              "  <svg xmlns=\"http://www.w3.org/2000/svg\" height=\"24px\"viewBox=\"0 0 24 24\"\n",
              "       width=\"24px\">\n",
              "    <path d=\"M0 0h24v24H0V0z\" fill=\"none\"/>\n",
              "    <path d=\"M18.56 5.44l.94 2.06.94-2.06 2.06-.94-2.06-.94-.94-2.06-.94 2.06-2.06.94zm-11 1L8.5 8.5l.94-2.06 2.06-.94-2.06-.94L8.5 2.5l-.94 2.06-2.06.94zm10 10l.94 2.06.94-2.06 2.06-.94-2.06-.94-.94-2.06-.94 2.06-2.06.94z\"/><path d=\"M17.41 7.96l-1.37-1.37c-.4-.4-.92-.59-1.43-.59-.52 0-1.04.2-1.43.59L10.3 9.45l-7.72 7.72c-.78.78-.78 2.05 0 2.83L4 21.41c.39.39.9.59 1.41.59.51 0 1.02-.2 1.41-.59l7.78-7.78 2.81-2.81c.8-.78.8-2.07 0-2.86zM5.41 20L4 18.59l7.72-7.72 1.47 1.35L5.41 20z\"/>\n",
              "  </svg>\n",
              "      </button>\n",
              "      \n",
              "  <style>\n",
              "    .colab-df-container {\n",
              "      display:flex;\n",
              "      flex-wrap:wrap;\n",
              "      gap: 12px;\n",
              "    }\n",
              "\n",
              "    .colab-df-convert {\n",
              "      background-color: #E8F0FE;\n",
              "      border: none;\n",
              "      border-radius: 50%;\n",
              "      cursor: pointer;\n",
              "      display: none;\n",
              "      fill: #1967D2;\n",
              "      height: 32px;\n",
              "      padding: 0 0 0 0;\n",
              "      width: 32px;\n",
              "    }\n",
              "\n",
              "    .colab-df-convert:hover {\n",
              "      background-color: #E2EBFA;\n",
              "      box-shadow: 0px 1px 2px rgba(60, 64, 67, 0.3), 0px 1px 3px 1px rgba(60, 64, 67, 0.15);\n",
              "      fill: #174EA6;\n",
              "    }\n",
              "\n",
              "    [theme=dark] .colab-df-convert {\n",
              "      background-color: #3B4455;\n",
              "      fill: #D2E3FC;\n",
              "    }\n",
              "\n",
              "    [theme=dark] .colab-df-convert:hover {\n",
              "      background-color: #434B5C;\n",
              "      box-shadow: 0px 1px 3px 1px rgba(0, 0, 0, 0.15);\n",
              "      filter: drop-shadow(0px 1px 2px rgba(0, 0, 0, 0.3));\n",
              "      fill: #FFFFFF;\n",
              "    }\n",
              "  </style>\n",
              "\n",
              "      <script>\n",
              "        const buttonEl =\n",
              "          document.querySelector('#df-c246a339-f9ba-4f5e-b236-56456e85f074 button.colab-df-convert');\n",
              "        buttonEl.style.display =\n",
              "          google.colab.kernel.accessAllowed ? 'block' : 'none';\n",
              "\n",
              "        async function convertToInteractive(key) {\n",
              "          const element = document.querySelector('#df-c246a339-f9ba-4f5e-b236-56456e85f074');\n",
              "          const dataTable =\n",
              "            await google.colab.kernel.invokeFunction('convertToInteractive',\n",
              "                                                     [key], {});\n",
              "          if (!dataTable) return;\n",
              "\n",
              "          const docLinkHtml = 'Like what you see? Visit the ' +\n",
              "            '<a target=\"_blank\" href=https://colab.research.google.com/notebooks/data_table.ipynb>data table notebook</a>'\n",
              "            + ' to learn more about interactive tables.';\n",
              "          element.innerHTML = '';\n",
              "          dataTable['output_type'] = 'display_data';\n",
              "          await google.colab.output.renderOutput(dataTable, element);\n",
              "          const docLink = document.createElement('div');\n",
              "          docLink.innerHTML = docLinkHtml;\n",
              "          element.appendChild(docLink);\n",
              "        }\n",
              "      </script>\n",
              "    </div>\n",
              "  </div>\n",
              "  "
            ],
            "text/plain": [
              "                                               tweet  label\n",
              "0  #تبني_قطط_انقاذ من الخاص هاااام كيتن أنثى عمره...      2\n",
              "1  '#خذ_الخطوة_خذ_اللقاح \\nالحمدالله من قبل ومن ب...      1\n",
              "2  لو اللي مثلك وشرواك طعمو كان قد حذفنا الكمامات...      1\n",
              "3  #الصحة:•نحو 14.5 مليون شخص تم إعطاؤهم جرعة لقا...      1\n",
              "4  • في منظور القوة البشرية ( الأزمة ستطول لأشهر ...      3"
            ]
          },
          "metadata": {},
          "execution_count": 11
        }
      ],
      "source": [
        "data.head()"
      ]
    },
    {
      "cell_type": "code",
      "execution_count": null,
      "id": "92901abb",
      "metadata": {
        "scrolled": true,
        "colab": {
          "base_uri": "https://localhost:8080/"
        },
        "id": "92901abb",
        "outputId": "f755a618-c82d-4ca0-a783-920375b4b1c1"
      },
      "outputs": [
        {
          "output_type": "stream",
          "name": "stdout",
          "text": [
            "<class 'pandas.core.frame.DataFrame'>\n",
            "RangeIndex: 19357 entries, 0 to 19356\n",
            "Data columns (total 2 columns):\n",
            " #   Column  Non-Null Count  Dtype \n",
            "---  ------  --------------  ----- \n",
            " 0   tweet   19356 non-null  object\n",
            " 1   label   19357 non-null  int64 \n",
            "dtypes: int64(1), object(1)\n",
            "memory usage: 302.6+ KB\n"
          ]
        }
      ],
      "source": [
        "data.info()"
      ]
    },
    {
      "cell_type": "code",
      "execution_count": null,
      "id": "50352f1e",
      "metadata": {
        "colab": {
          "base_uri": "https://localhost:8080/"
        },
        "id": "50352f1e",
        "outputId": "99fc628c-c0e2-4d06-9949-779d507e8177"
      },
      "outputs": [
        {
          "output_type": "execute_result",
          "data": {
            "text/plain": [
              "array([2, 1, 3, 0])"
            ]
          },
          "metadata": {},
          "execution_count": 13
        }
      ],
      "source": [
        "data['label'].unique()"
      ]
    },
    {
      "cell_type": "code",
      "execution_count": null,
      "id": "1cef814b",
      "metadata": {
        "scrolled": true,
        "colab": {
          "base_uri": "https://localhost:8080/"
        },
        "id": "1cef814b",
        "outputId": "40368817-8f53-42c2-e2e5-bb8267c0af22"
      },
      "outputs": [
        {
          "output_type": "execute_result",
          "data": {
            "text/plain": [
              "3    7338\n",
              "1    5334\n",
              "2    3902\n",
              "0    2783\n",
              "Name: label, dtype: int64"
            ]
          },
          "metadata": {},
          "execution_count": 14
        }
      ],
      "source": [
        "data['label'].value_counts() "
      ]
    },
    {
      "cell_type": "code",
      "execution_count": null,
      "id": "d7d9a78d",
      "metadata": {
        "scrolled": false,
        "colab": {
          "base_uri": "https://localhost:8080/"
        },
        "id": "d7d9a78d",
        "outputId": "6a5900e3-7094-4315-ea1a-0b6c26a108f7"
      },
      "outputs": [
        {
          "output_type": "execute_result",
          "data": {
            "text/plain": [
              "tweet    1\n",
              "label    0\n",
              "dtype: int64"
            ]
          },
          "metadata": {},
          "execution_count": 15
        }
      ],
      "source": [
        "data.isna().sum()"
      ]
    },
    {
      "cell_type": "markdown",
      "id": "9f57a06a",
      "metadata": {
        "id": "9f57a06a"
      },
      "source": [
        "## [2.2]: Data visualization¶"
      ]
    },
    {
      "cell_type": "code",
      "execution_count": null,
      "id": "e9ae978a",
      "metadata": {
        "colab": {
          "base_uri": "https://localhost:8080/",
          "height": 297
        },
        "id": "e9ae978a",
        "outputId": "9f021700-9cff-4971-f627-396458b24c67"
      },
      "outputs": [
        {
          "output_type": "execute_result",
          "data": {
            "text/plain": [
              "<matplotlib.axes._subplots.AxesSubplot at 0x7effd56d93d0>"
            ]
          },
          "metadata": {},
          "execution_count": 16
        },
        {
          "output_type": "display_data",
          "data": {
            "image/png": "[encoded data removed]",
            "text/plain": [
              "<Figure size 432x288 with 1 Axes>"
            ]
          },
          "metadata": {
            "needs_background": "light"
          }
        }
      ],
      "source": [
        "sns.countplot(x='label',data=data,palette='rainbow')"
      ]
    },
    {
      "cell_type": "code",
      "execution_count": null,
      "id": "ef924bb4",
      "metadata": {
        "id": "ef924bb4"
      },
      "outputs": [],
      "source": [
        ""
      ]
    },
    {
      "cell_type": "markdown",
      "id": "d57a475a",
      "metadata": {
        "id": "d57a475a"
      },
      "source": [
        "# Step [3]:  Preprocess for data¶"
      ]
    },
    {
      "cell_type": "markdown",
      "id": "241efb45",
      "metadata": {
        "id": "241efb45"
      },
      "source": [
        "## [3.1]: Data Cleaning"
      ]
    },
    {
      "cell_type": "code",
      "execution_count": null,
      "id": "dca6755b",
      "metadata": {
        "id": "dca6755b"
      },
      "outputs": [],
      "source": [
        "data.dropna(inplace=True)"
      ]
    },
    {
      "cell_type": "code",
      "execution_count": null,
      "id": "a38f9f6a",
      "metadata": {
        "colab": {
          "base_uri": "https://localhost:8080/"
        },
        "id": "a38f9f6a",
        "outputId": "64dee98a-81d7-44d7-a1bb-303ae2440cae"
      },
      "outputs": [
        {
          "output_type": "execute_result",
          "data": {
            "text/plain": [
              "tweet    0\n",
              "label    0\n",
              "dtype: int64"
            ]
          },
          "metadata": {},
          "execution_count": 18
        }
      ],
      "source": [
        "data.isna().sum()"
      ]
    },
    {
      "cell_type": "markdown",
      "id": "3a59d80e",
      "metadata": {
        "id": "3a59d80e"
      },
      "source": [
        "## [3.2]: Remove url and mintion and hashtags"
      ]
    },
    {
      "cell_type": "code",
      "execution_count": null,
      "id": "0100abd3",
      "metadata": {
        "id": "0100abd3"
      },
      "outputs": [],
      "source": [
        "def remove_url(tweet):\n",
        "\n",
        "    # remove URL\n",
        "    tweet = re.sub('https?\\S+', ' ', tweet)\n",
        "    \n",
        "    # Remove usernames\n",
        "    tweet = re.sub(r\"@\\S+\",'',tweet)\n",
        "    \n",
        "    \n",
        "    # remove hashtags\n",
        "    # only removing the hash # sign from the word\n",
        "    tweet = re.sub(r'#', '', tweet)\n",
        "    \n",
        "      ## remove extra whitespace\n",
        "    tweet = re.sub('\\s+', ' ', tweet) \n",
        "    \n",
        "    tweet = re.sub('^[\\u0621-\\u064A\\u0660-\\u0669 ]+$', '', tweet)\n",
        "    tweet = re.sub('\\.+', '', tweet)\n",
        "    tweet = re.sub(':', '', tweet)\n",
        "    tweet = re.sub('!', '', tweet)\n",
        "    tweet = re.sub('،','',tweet)\n",
        "    tweet = re.sub('-',' ',tweet)\n",
        "    tweet = re.sub('_',' ',tweet)\n",
        "    \n",
        "    \n",
        "    return tweet"
      ]
    },
    {
      "cell_type": "code",
      "execution_count": null,
      "id": "ef07ec10",
      "metadata": {
        "colab": {
          "base_uri": "https://localhost:8080/",
          "height": 110
        },
        "id": "ef07ec10",
        "outputId": "8486f2f2-2d8e-47ca-b8d8-39a50f3af5c0"
      },
      "outputs": [
        {
          "output_type": "stream",
          "name": "stdout",
          "text": [
            "#تبني_قطط_انقاذ من الخاص هاااام كيتن أنثى عمرها ٥٩ يوم اخذتها حديثه الولاده عمرها ٣ ايام تم التطعيم امس سبب العرض للتبني انا اعتني بالقطط حديثه الولاده  وعند اكتمال شهرين يحتاجوا مساحة  وانا ما عندي هادي لوجود اكثر من ٧ قطط حديثه الولاده للتواصل @saad28234346 التبني الرياض \n",
            "_____________________________________________________________________________________________________\n"
          ]
        },
        {
          "output_type": "execute_result",
          "data": {
            "application/vnd.google.colaboratory.intrinsic+json": {
              "type": "string"
            },
            "text/plain": [
              "'تبني قطط انقاذ من الخاص هاااام كيتن أنثى عمرها ٥٩ يوم اخذتها حديثه الولاده عمرها ٣ ايام تم التطعيم امس سبب العرض للتبني انا اعتني بالقطط حديثه الولاده وعند اكتمال شهرين يحتاجوا مساحة وانا ما عندي هادي لوجود اكثر من ٧ قطط حديثه الولاده للتواصل التبني الرياض '"
            ]
          },
          "metadata": {},
          "execution_count": 20
        }
      ],
      "source": [
        "print(data['tweet'][0])\n",
        "print('_____________________________________________________________________________________________________')\n",
        "remove_url(data['tweet'][0])"
      ]
    },
    {
      "cell_type": "markdown",
      "id": "06ca9d36",
      "metadata": {
        "id": "06ca9d36"
      },
      "source": [
        "## [3.3]: Remove emoji"
      ]
    },
    {
      "cell_type": "code",
      "execution_count": null,
      "id": "e3365355",
      "metadata": {
        "id": "e3365355"
      },
      "outputs": [],
      "source": [
        "def remove_emoji(tweet):\n",
        "    emoji_pattern = re.compile(\"[\"\n",
        "                                   u\"\\U0001F600-\\U0001F64F\"  # emoticons\n",
        "                                   u\"\\U0001F300-\\U0001F5FF\"  # symbols & pictographs\n",
        "                                   u\"\\U0001F680-\\U0001F6FF\"  # transport & map symbols\n",
        "                                   u\"\\U0001F1E0-\\U0001F1FF\"  # flags (iOS)\n",
        "                                   u\"\\U00002702-\\U000027B0\"\n",
        "                                   u\"\\U000024C2-\\U0001F251\"\n",
        "                                   \"]+\", flags=re.UNICODE)\n",
        "    tweet = emoji_pattern.sub(r'', tweet)\n",
        "    return tweet"
      ]
    },
    {
      "cell_type": "code",
      "execution_count": null,
      "id": "c5b3c230",
      "metadata": {
        "colab": {
          "base_uri": "https://localhost:8080/"
        },
        "id": "c5b3c230",
        "outputId": "402d6459-5a3f-4f65-8ae1-2fd9528a9f46"
      },
      "outputs": [
        {
          "output_type": "stream",
          "name": "stdout",
          "text": [
            "🚨السلطات الصحية تعلن تطعيم أكثر من نصف مليون طفل في الفئة العمرية [12-17] بلقاح فيروس كورونا في أنحاء البلاد بعد أقل من أسبوع على بدء تطعيم هذه الفئة https://t.co/XbqFBwGEYI\n",
            "_____________________________________________________________________________________________________\n"
          ]
        },
        {
          "output_type": "execute_result",
          "data": {
            "application/vnd.google.colaboratory.intrinsic+json": {
              "type": "string"
            },
            "text/plain": [
              "'السلطات الصحية تعلن تطعيم أكثر من نصف مليون طفل في الفئة العمرية [12-17] بلقاح فيروس كورونا في أنحاء البلاد بعد أقل من أسبوع على بدء تطعيم هذه الفئة https://t.co/XbqFBwGEYI'"
            ]
          },
          "metadata": {},
          "execution_count": 22
        }
      ],
      "source": [
        "print(data['tweet'][7])\n",
        "print('_____________________________________________________________________________________________________')\n",
        "remove_emoji(data['tweet'][7])"
      ]
    },
    {
      "cell_type": "markdown",
      "id": "234df130",
      "metadata": {
        "id": "234df130"
      },
      "source": [
        "## [3.4]: Remove Stopwords"
      ]
    },
    {
      "cell_type": "code",
      "execution_count": null,
      "id": "d2b90f9e",
      "metadata": {
        "id": "d2b90f9e"
      },
      "outputs": [],
      "source": [
        "def remove_stepwords(tweet):\n",
        "    stop_words=nltk.corpus.stopwords.words(\"arabic\")\n",
        "    t = \" \".join([w for w in str(tweet).split() if not w in stop_words])\n",
        "    return t"
      ]
    },
    {
      "cell_type": "code",
      "execution_count": null,
      "id": "e10967d8",
      "metadata": {
        "colab": {
          "base_uri": "https://localhost:8080/",
          "height": 72
        },
        "id": "e10967d8",
        "outputId": "701c23a5-e381-4a00-e4eb-c11d99653c1a"
      },
      "outputs": [
        {
          "output_type": "stream",
          "name": "stdout",
          "text": [
            "'#خذ_الخطوة_خذ_اللقاح \\nالحمدالله من قبل ومن بعد أخذت اليوم \\nالجرعه الأولى من لقاح #فيروس_كورونا\\nأسأل الله أن يجعل فيه العافيه وأن يزيل \\nعن هذا الوباء عاجلا غير آجل. https://t.co/nG1D24s5Bx'\n",
            "_____________________________________________________________________________________________________\n"
          ]
        },
        {
          "output_type": "execute_result",
          "data": {
            "application/vnd.google.colaboratory.intrinsic+json": {
              "type": "string"
            },
            "text/plain": [
              "\"'#خذ_الخطوة_خذ_اللقاح \\\\nالحمدالله أخذت اليوم \\\\nالجرعه الأولى لقاح #فيروس_كورونا\\\\nأسأل الله يجعل العافيه وأن يزيل \\\\nعن الوباء عاجلا آجل. https://t.co/nG1D24s5Bx'\""
            ]
          },
          "metadata": {},
          "execution_count": 24
        }
      ],
      "source": [
        "print(data['tweet'][1])\n",
        "print('_____________________________________________________________________________________________________')\n",
        "remove_stepwords(data['tweet'][1])"
      ]
    },
    {
      "cell_type": "markdown",
      "id": "88749c06",
      "metadata": {
        "id": "88749c06"
      },
      "source": [
        "## [3.5]: Create a Train Set and test Set¶"
      ]
    },
    {
      "cell_type": "code",
      "execution_count": null,
      "id": "ba65b6e8",
      "metadata": {
        "scrolled": true,
        "colab": {
          "base_uri": "https://localhost:8080/",
          "height": 204
        },
        "id": "ba65b6e8",
        "outputId": "ec541935-d46a-4d63-d93c-f9b5556807e7"
      },
      "outputs": [
        {
          "output_type": "execute_result",
          "data": {
            "text/html": [
              "\n",
              "  <div id=\"df-ebde8e6b-6d84-4ace-a2dc-d6f75b866698\">\n",
              "    <div class=\"colab-df-container\">\n",
              "      <div>\n",
              "<style scoped>\n",
              "    .dataframe tbody tr th:only-of-type {\n",
              "        vertical-align: middle;\n",
              "    }\n",
              "\n",
              "    .dataframe tbody tr th {\n",
              "        vertical-align: top;\n",
              "    }\n",
              "\n",
              "    .dataframe thead th {\n",
              "        text-align: right;\n",
              "    }\n",
              "</style>\n",
              "<table border=\"1\" class=\"dataframe\">\n",
              "  <thead>\n",
              "    <tr style=\"text-align: right;\">\n",
              "      <th></th>\n",
              "      <th>tweet</th>\n",
              "      <th>label</th>\n",
              "    </tr>\n",
              "  </thead>\n",
              "  <tbody>\n",
              "    <tr>\n",
              "      <th>19342</th>\n",
              "      <td>#جونسون: لقاح \"#أسترازينيكا\" آمن وسآخذ جرعتي م...</td>\n",
              "      <td>1</td>\n",
              "    </tr>\n",
              "    <tr>\n",
              "      <th>19343</th>\n",
              "      <td>@nfnfjo اذا من خططهم قتلنا باللقاح و افساد الا...</td>\n",
              "      <td>0</td>\n",
              "    </tr>\n",
              "    <tr>\n",
              "      <th>19347</th>\n",
              "      <td>واللهِ من يوم ما أخدت اللقاح وجسمي مش مني بس ب...</td>\n",
              "      <td>0</td>\n",
              "    </tr>\n",
              "    <tr>\n",
              "      <th>19348</th>\n",
              "      <td>لعودة_آمنة لمدارسنا .. نبادر بأخذ الجرعتين من ...</td>\n",
              "      <td>1</td>\n",
              "    </tr>\n",
              "    <tr>\n",
              "      <th>19350</th>\n",
              "      <td>هل ستأخذ لقاح #كوفيد19 أو تعرف من سيفعل؟ ✌ علي...</td>\n",
              "      <td>1</td>\n",
              "    </tr>\n",
              "  </tbody>\n",
              "</table>\n",
              "</div>\n",
              "      <button class=\"colab-df-convert\" onclick=\"convertToInteractive('df-ebde8e6b-6d84-4ace-a2dc-d6f75b866698')\"\n",
              "              title=\"Convert this dataframe to an interactive table.\"\n",
              "              style=\"display:none;\">\n",
              "        \n",
              "  <svg xmlns=\"http://www.w3.org/2000/svg\" height=\"24px\"viewBox=\"0 0 24 24\"\n",
              "       width=\"24px\">\n",
              "    <path d=\"M0 0h24v24H0V0z\" fill=\"none\"/>\n",
              "    <path d=\"M18.56 5.44l.94 2.06.94-2.06 2.06-.94-2.06-.94-.94-2.06-.94 2.06-2.06.94zm-11 1L8.5 8.5l.94-2.06 2.06-.94-2.06-.94L8.5 2.5l-.94 2.06-2.06.94zm10 10l.94 2.06.94-2.06 2.06-.94-2.06-.94-.94-2.06-.94 2.06-2.06.94z\"/><path d=\"M17.41 7.96l-1.37-1.37c-.4-.4-.92-.59-1.43-.59-.52 0-1.04.2-1.43.59L10.3 9.45l-7.72 7.72c-.78.78-.78 2.05 0 2.83L4 21.41c.39.39.9.59 1.41.59.51 0 1.02-.2 1.41-.59l7.78-7.78 2.81-2.81c.8-.78.8-2.07 0-2.86zM5.41 20L4 18.59l7.72-7.72 1.47 1.35L5.41 20z\"/>\n",
              "  </svg>\n",
              "      </button>\n",
              "      \n",
              "  <style>\n",
              "    .colab-df-container {\n",
              "      display:flex;\n",
              "      flex-wrap:wrap;\n",
              "      gap: 12px;\n",
              "    }\n",
              "\n",
              "    .colab-df-convert {\n",
              "      background-color: #E8F0FE;\n",
              "      border: none;\n",
              "      border-radius: 50%;\n",
              "      cursor: pointer;\n",
              "      display: none;\n",
              "      fill: #1967D2;\n",
              "      height: 32px;\n",
              "      padding: 0 0 0 0;\n",
              "      width: 32px;\n",
              "    }\n",
              "\n",
              "    .colab-df-convert:hover {\n",
              "      background-color: #E2EBFA;\n",
              "      box-shadow: 0px 1px 2px rgba(60, 64, 67, 0.3), 0px 1px 3px 1px rgba(60, 64, 67, 0.15);\n",
              "      fill: #174EA6;\n",
              "    }\n",
              "\n",
              "    [theme=dark] .colab-df-convert {\n",
              "      background-color: #3B4455;\n",
              "      fill: #D2E3FC;\n",
              "    }\n",
              "\n",
              "    [theme=dark] .colab-df-convert:hover {\n",
              "      background-color: #434B5C;\n",
              "      box-shadow: 0px 1px 3px 1px rgba(0, 0, 0, 0.15);\n",
              "      filter: drop-shadow(0px 1px 2px rgba(0, 0, 0, 0.3));\n",
              "      fill: #FFFFFF;\n",
              "    }\n",
              "  </style>\n",
              "\n",
              "      <script>\n",
              "        const buttonEl =\n",
              "          document.querySelector('#df-ebde8e6b-6d84-4ace-a2dc-d6f75b866698 button.colab-df-convert');\n",
              "        buttonEl.style.display =\n",
              "          google.colab.kernel.accessAllowed ? 'block' : 'none';\n",
              "\n",
              "        async function convertToInteractive(key) {\n",
              "          const element = document.querySelector('#df-ebde8e6b-6d84-4ace-a2dc-d6f75b866698');\n",
              "          const dataTable =\n",
              "            await google.colab.kernel.invokeFunction('convertToInteractive',\n",
              "                                                     [key], {});\n",
              "          if (!dataTable) return;\n",
              "\n",
              "          const docLinkHtml = 'Like what you see? Visit the ' +\n",
              "            '<a target=\"_blank\" href=https://colab.research.google.com/notebooks/data_table.ipynb>data table notebook</a>'\n",
              "            + ' to learn more about interactive tables.';\n",
              "          element.innerHTML = '';\n",
              "          dataTable['output_type'] = 'display_data';\n",
              "          await google.colab.output.renderOutput(dataTable, element);\n",
              "          const docLink = document.createElement('div');\n",
              "          docLink.innerHTML = docLinkHtml;\n",
              "          element.appendChild(docLink);\n",
              "        }\n",
              "      </script>\n",
              "    </div>\n",
              "  </div>\n",
              "  "
            ],
            "text/plain": [
              "                                                   tweet  label\n",
              "19342  #جونسون: لقاح \"#أسترازينيكا\" آمن وسآخذ جرعتي م...      1\n",
              "19343  @nfnfjo اذا من خططهم قتلنا باللقاح و افساد الا...      0\n",
              "19347  واللهِ من يوم ما أخدت اللقاح وجسمي مش مني بس ب...      0\n",
              "19348  لعودة_آمنة لمدارسنا .. نبادر بأخذ الجرعتين من ...      1\n",
              "19350  هل ستأخذ لقاح #كوفيد19 أو تعرف من سيفعل؟ ✌ علي...      1"
            ]
          },
          "metadata": {},
          "execution_count": 25
        }
      ],
      "source": [
        "train = data[(data['label'] < 2)]\n",
        "data_test = test[(test['label'] < 2)]\n",
        "train.tail()"
      ]
    },
    {
      "cell_type": "code",
      "execution_count": null,
      "id": "1becc7e9",
      "metadata": {
        "scrolled": false,
        "id": "1becc7e9"
      },
      "outputs": [],
      "source": [
        "y_train = train['label']\n",
        "X_train = train.drop('label',axis=1)\n",
        "y_test = data_test['label']\n",
        "X_test = data_test.drop('label',axis=1)"
      ]
    },
    {
      "cell_type": "code",
      "execution_count": null,
      "id": "5cb64db1",
      "metadata": {
        "colab": {
          "base_uri": "https://localhost:8080/"
        },
        "id": "5cb64db1",
        "outputId": "b0ef6968-05d8-4b8c-8477-e53b4f5edab4"
      },
      "outputs": [
        {
          "output_type": "execute_result",
          "data": {
            "text/plain": [
              "(2717, 1)"
            ]
          },
          "metadata": {},
          "execution_count": 27
        }
      ],
      "source": [
        "X_test.shape"
      ]
    },
    {
      "cell_type": "code",
      "execution_count": null,
      "id": "1460168d",
      "metadata": {
        "colab": {
          "base_uri": "https://localhost:8080/"
        },
        "id": "1460168d",
        "outputId": "6be3d22e-69e9-43a1-dcce-4f8f87200fc5"
      },
      "outputs": [
        {
          "output_type": "execute_result",
          "data": {
            "text/plain": [
              "(8117, 1)"
            ]
          },
          "metadata": {},
          "execution_count": 28
        }
      ],
      "source": [
        "X_train.shape"
      ]
    },
    {
      "cell_type": "markdown",
      "id": "f54edf44",
      "metadata": {
        "id": "f54edf44"
      },
      "source": [
        "# Step [4]: ML Model"
      ]
    },
    {
      "cell_type": "markdown",
      "id": "2f22713d",
      "metadata": {
        "id": "2f22713d"
      },
      "source": [
        "## [4.1]: Baseline Model¶"
      ]
    },
    {
      "cell_type": "markdown",
      "id": "ad719acd",
      "metadata": {
        "id": "ad719acd"
      },
      "source": [
        "### [4.1.1]:  Extract Bag of Words Features"
      ]
    },
    {
      "cell_type": "code",
      "execution_count": null,
      "id": "1ebf9216",
      "metadata": {
        "scrolled": false,
        "colab": {
          "base_uri": "https://localhost:8080/"
        },
        "id": "1ebf9216",
        "outputId": "ab2d7263-7c4f-40de-d474-d0441a5bfb84"
      },
      "outputs": [
        {
          "output_type": "execute_result",
          "data": {
            "text/plain": [
              "<8117x176033 sparse matrix of type '<class 'numpy.int64'>'\n",
              "\twith 386826 stored elements in Compressed Sparse Row format>"
            ]
          },
          "metadata": {},
          "execution_count": 29
        }
      ],
      "source": [
        "from sklearn.feature_extraction.text import CountVectorizer\n",
        "\n",
        "vectorizer = CountVectorizer(ngram_range=(1,2))\n",
        "train= vectorizer.fit_transform(X_train[\"tweet\"].values)\n",
        "test  = vectorizer.transform(X_test[\"tweet\"].values)\n",
        "train"
      ]
    },
    {
      "cell_type": "markdown",
      "id": "fa553173",
      "metadata": {
        "id": "fa553173"
      },
      "source": [
        "### [4.1.2]: Train model LogisticRegression classifaiter"
      ]
    },
    {
      "cell_type": "code",
      "execution_count": null,
      "id": "a542876c",
      "metadata": {
        "scrolled": true,
        "colab": {
          "base_uri": "https://localhost:8080/"
        },
        "id": "a542876c",
        "outputId": "bcf84ec6-99f9-4473-d568-1596e6dda5a0"
      },
      "outputs": [
        {
          "output_type": "execute_result",
          "data": {
            "text/plain": [
              "LogisticRegression(max_iter=500)"
            ]
          },
          "metadata": {},
          "execution_count": 30
        }
      ],
      "source": [
        "from sklearn.linear_model import LogisticRegression\n",
        "# y_train = y_train.values\n",
        "# y_test = y_test.values\n",
        "\n",
        "classifier = LogisticRegression(max_iter=500)\n",
        "classifier.fit(train, y_train)\n"
      ]
    },
    {
      "cell_type": "markdown",
      "id": "a286e05a",
      "metadata": {
        "id": "a286e05a"
      },
      "source": [
        "### [4.1.3] Evaluation"
      ]
    },
    {
      "cell_type": "code",
      "execution_count": null,
      "id": "7e011a54",
      "metadata": {
        "colab": {
          "base_uri": "https://localhost:8080/"
        },
        "id": "7e011a54",
        "outputId": "03f2acf5-3e80-436b-8192-2599c81d03df"
      },
      "outputs": [
        {
          "output_type": "stream",
          "name": "stdout",
          "text": [
            "Accuracy: 0.7835848362164152\n"
          ]
        }
      ],
      "source": [
        "Accuracy = classifier.score(test, y_test)\n",
        "\n",
        "print(\"Accuracy:\", Accuracy)"
      ]
    },
    {
      "cell_type": "code",
      "execution_count": null,
      "id": "42b0c136",
      "metadata": {
        "scrolled": true,
        "id": "42b0c136"
      },
      "outputs": [],
      "source": [
        "add_to_dictionary(\"logistic regression with bag of words\",\"none\",Accuracy)"
      ]
    },
    {
      "cell_type": "markdown",
      "id": "f9e52feb",
      "metadata": {
        "id": "f9e52feb"
      },
      "source": [
        "## [4.2]: Build model with preprocessing methods"
      ]
    },
    {
      "cell_type": "code",
      "execution_count": null,
      "id": "8c2578f7",
      "metadata": {
        "id": "8c2578f7"
      },
      "outputs": [],
      "source": [
        "def bow_and_LogisticRegression(x_train,x_test):\n",
        "    vectorizer = CountVectorizer()\n",
        "    train= vectorizer.fit_transform(x_train[\"tweet\"].values)\n",
        "    test  = vectorizer.transform(x_test[\"tweet\"].values)\n",
        "    \n",
        "    classifier = LogisticRegression(max_iter=500)\n",
        "    classifier.fit(train, y_train)\n",
        "    \n",
        "    Accuracy = classifier.score(test, y_test)\n",
        "    return Accuracy"
      ]
    },
    {
      "cell_type": "markdown",
      "id": "9eaaa5dc",
      "metadata": {
        "id": "9eaaa5dc"
      },
      "source": [
        "### [4.2.1]: Remove url and mintion and hashtags with BOW and LogisticRegression classifaiter"
      ]
    },
    {
      "cell_type": "code",
      "execution_count": null,
      "id": "051ceae4",
      "metadata": {
        "id": "051ceae4"
      },
      "outputs": [],
      "source": [
        "x_train = pd.DataFrame()\n",
        "x_test = pd.DataFrame()"
      ]
    },
    {
      "cell_type": "code",
      "execution_count": null,
      "id": "73e8efd5",
      "metadata": {
        "id": "73e8efd5"
      },
      "outputs": [],
      "source": [
        "x_train[\"tweet\"] = X_train[\"tweet\"].apply(remove_url)\n",
        "x_test[\"tweet\"] = X_test[\"tweet\"].apply(remove_url)"
      ]
    },
    {
      "cell_type": "code",
      "execution_count": null,
      "id": "681a2673",
      "metadata": {
        "colab": {
          "base_uri": "https://localhost:8080/"
        },
        "id": "681a2673",
        "outputId": "247fa999-b568-40c2-dd2c-636f076e9e39"
      },
      "outputs": [
        {
          "output_type": "execute_result",
          "data": {
            "text/plain": [
              "0.749723960250276"
            ]
          },
          "metadata": {},
          "execution_count": 36
        }
      ],
      "source": [
        "Accuracy = bow_and_LogisticRegression(x_train,x_test)\n",
        "Accuracy"
      ]
    },
    {
      "cell_type": "code",
      "execution_count": null,
      "id": "b072cda3",
      "metadata": {
        "id": "b072cda3"
      },
      "outputs": [],
      "source": [
        "add_to_dictionary(\"logistic regression with bag of words\",\"remove url and mintion and hashtags\",Accuracy)"
      ]
    },
    {
      "cell_type": "markdown",
      "id": "c36bfd00",
      "metadata": {
        "id": "c36bfd00"
      },
      "source": [
        "### [4.2.2]: Remove emoji BOW and LogisticRegression classifaiter"
      ]
    },
    {
      "cell_type": "code",
      "execution_count": null,
      "id": "fc7ba7e6",
      "metadata": {
        "id": "fc7ba7e6"
      },
      "outputs": [],
      "source": [
        "x_train[\"tweet\"] = X_train[\"tweet\"].apply(remove_emoji)\n",
        "x_test[\"tweet\"] = X_test[\"tweet\"].apply(remove_emoji)"
      ]
    },
    {
      "cell_type": "code",
      "execution_count": null,
      "id": "5cb4532a",
      "metadata": {
        "colab": {
          "base_uri": "https://localhost:8080/"
        },
        "id": "5cb4532a",
        "outputId": "87162b96-011d-49fd-dc11-688d31f0cc9c"
      },
      "outputs": [
        {
          "output_type": "execute_result",
          "data": {
            "text/plain": [
              "0.7754876702245124"
            ]
          },
          "metadata": {},
          "execution_count": 39
        }
      ],
      "source": [
        "Accuracy = bow_and_LogisticRegression(x_train,x_test)\n",
        "Accuracy"
      ]
    },
    {
      "cell_type": "code",
      "execution_count": null,
      "id": "c856b45b",
      "metadata": {
        "id": "c856b45b"
      },
      "outputs": [],
      "source": [
        "add_to_dictionary(\"logistic regression with bag of words\",\"remove emoji\",Accuracy)"
      ]
    },
    {
      "cell_type": "markdown",
      "id": "b52562a0",
      "metadata": {
        "id": "b52562a0"
      },
      "source": [
        "### [4.2.3]: Remove stopwords, BOW and LogisticRegression classifaiter"
      ]
    },
    {
      "cell_type": "code",
      "execution_count": null,
      "id": "3e0fa9e3",
      "metadata": {
        "id": "3e0fa9e3"
      },
      "outputs": [],
      "source": [
        "x_train[\"tweet\"] = X_train[\"tweet\"].apply(remove_stepwords)\n",
        "x_test[\"tweet\"] = X_test[\"tweet\"].apply(remove_stepwords)"
      ]
    },
    {
      "cell_type": "code",
      "execution_count": null,
      "id": "aed1350f",
      "metadata": {
        "colab": {
          "base_uri": "https://localhost:8080/"
        },
        "id": "aed1350f",
        "outputId": "3fc17e4e-7604-41a1-8102-4d89f8288524"
      },
      "outputs": [
        {
          "output_type": "execute_result",
          "data": {
            "text/plain": [
              "0.7747515642252485"
            ]
          },
          "metadata": {},
          "execution_count": 42
        }
      ],
      "source": [
        "Accuracy = bow_and_LogisticRegression(x_train,x_test)\n",
        "Accuracy"
      ]
    },
    {
      "cell_type": "code",
      "execution_count": null,
      "id": "bab59302",
      "metadata": {
        "id": "bab59302"
      },
      "outputs": [],
      "source": [
        "add_to_dictionary(\"logistic regression with bag of words\",\"remove stopwords\",Accuracy)"
      ]
    },
    {
      "cell_type": "markdown",
      "id": "d4969b90",
      "metadata": {
        "id": "d4969b90"
      },
      "source": [
        "## [4.3]: Ngrams BOW and LogisticRegression classifaiter"
      ]
    },
    {
      "cell_type": "code",
      "execution_count": null,
      "id": "45daa45f",
      "metadata": {
        "colab": {
          "base_uri": "https://localhost:8080/"
        },
        "id": "45daa45f",
        "outputId": "ad950765-65fd-4f42-b078-3a09c4021f60"
      },
      "outputs": [
        {
          "output_type": "execute_result",
          "data": {
            "text/plain": [
              "<8117x176033 sparse matrix of type '<class 'numpy.int64'>'\n",
              "\twith 386826 stored elements in Compressed Sparse Row format>"
            ]
          },
          "metadata": {},
          "execution_count": 44
        }
      ],
      "source": [
        "from sklearn.feature_extraction.text import CountVectorizer\n",
        "\n",
        "vectorizer = CountVectorizer(ngram_range=(1,2))\n",
        "train= vectorizer.fit_transform(X_train[\"tweet\"].values)\n",
        "test  = vectorizer.transform(X_test[\"tweet\"].values)\n",
        "train"
      ]
    },
    {
      "cell_type": "code",
      "execution_count": null,
      "id": "c32434f6",
      "metadata": {
        "scrolled": true,
        "colab": {
          "base_uri": "https://localhost:8080/"
        },
        "id": "c32434f6",
        "outputId": "d22f8f49-5e5d-40a0-b98e-df61dd693cbe"
      },
      "outputs": [
        {
          "output_type": "execute_result",
          "data": {
            "text/plain": [
              "LogisticRegression(max_iter=500)"
            ]
          },
          "metadata": {},
          "execution_count": 45
        }
      ],
      "source": [
        "from sklearn.linear_model import LogisticRegression\n",
        "\n",
        "classifier = LogisticRegression(max_iter=500)\n",
        "classifier.fit(train, y_train)\n"
      ]
    },
    {
      "cell_type": "code",
      "execution_count": null,
      "id": "00a333ed",
      "metadata": {
        "colab": {
          "base_uri": "https://localhost:8080/"
        },
        "id": "00a333ed",
        "outputId": "06aa70c6-e2cf-47fe-9486-06af0b91c77a"
      },
      "outputs": [
        {
          "output_type": "stream",
          "name": "stdout",
          "text": [
            "Accuracy: 0.7835848362164152\n"
          ]
        }
      ],
      "source": [
        "Accuracy = classifier.score(test, y_test)\n",
        "\n",
        "print(\"Accuracy:\", Accuracy)"
      ]
    },
    {
      "cell_type": "code",
      "execution_count": null,
      "id": "51d99342",
      "metadata": {
        "scrolled": true,
        "id": "51d99342"
      },
      "outputs": [],
      "source": [
        "add_to_dictionary(\"logistic regression with ngrams bag of words\",\"none\",Accuracy)"
      ]
    },
    {
      "cell_type": "markdown",
      "id": "2a98704f",
      "metadata": {
        "id": "2a98704f"
      },
      "source": [
        "## [4.4]: TF-IDF and LogisticRegression classifaiter"
      ]
    },
    {
      "cell_type": "code",
      "execution_count": null,
      "id": "98ac5a79",
      "metadata": {
        "id": "98ac5a79"
      },
      "outputs": [],
      "source": [
        "from sklearn.feature_extraction.text import TfidfVectorizer\n",
        "def tfidf_LogisticRegression(x_train,x_test,min_f,max_f):\n",
        "    \n",
        "    tfidf_vectorizer = TfidfVectorizer(min_df=min_f, max_df=max_f, ngram_range=(1, 2))\n",
        "    x_train = tfidf_vectorizer.fit_transform(x_train[\"tweet\"].values)\n",
        "    x_test =tfidf_vectorizer.transform(x_test[\"tweet\"].values)\n",
        "    \n",
        "    classifier = LogisticRegression(max_iter=500)\n",
        "    classifier.fit(x_train, y_train)\n",
        "    Accuracy = classifier.score(x_test, y_test)\n",
        "    return Accuracy\n"
      ]
    },
    {
      "cell_type": "code",
      "execution_count": null,
      "id": "d874a1c5",
      "metadata": {
        "colab": {
          "base_uri": "https://localhost:8080/"
        },
        "id": "d874a1c5",
        "outputId": "ff3ecdf8-59d6-44be-ef35-d0dc0c74a6d5"
      },
      "outputs": [
        {
          "output_type": "execute_result",
          "data": {
            "text/plain": [
              "0.7464114832535885"
            ]
          },
          "metadata": {},
          "execution_count": 49
        }
      ],
      "source": [
        "Accuracy = tfidf_LogisticRegression(X_train,X_test,20,0.5)                                                                      \n",
        "Accuracy"
      ]
    },
    {
      "cell_type": "code",
      "execution_count": null,
      "id": "c6a22f71",
      "metadata": {
        "id": "c6a22f71"
      },
      "outputs": [],
      "source": [
        "add_to_dictionary(\"logistic regression with TD-IDF\",\"none\",Accuracy)"
      ]
    },
    {
      "cell_type": "markdown",
      "source": [
        "##[4.5] k-Nearest Neighbors with BOW"
      ],
      "metadata": {
        "id": "cTkRk7-dl8H_"
      },
      "id": "cTkRk7-dl8H_"
    },
    {
      "cell_type": "code",
      "execution_count": null,
      "id": "7dc2362e",
      "metadata": {
        "id": "7dc2362e"
      },
      "outputs": [],
      "source": [
        "## k-Nearest Neighbors"
      ]
    },
    {
      "cell_type": "code",
      "execution_count": null,
      "id": "836c59ec",
      "metadata": {
        "id": "836c59ec"
      },
      "outputs": [],
      "source": [
        "vectorizer = CountVectorizer()\n",
        "train= vectorizer.fit_transform(X_train[\"tweet\"].values)\n",
        "test  = vectorizer.transform(X_test[\"tweet\"].values)\n"
      ]
    },
    {
      "cell_type": "code",
      "execution_count": null,
      "id": "ee29df30",
      "metadata": {
        "colab": {
          "base_uri": "https://localhost:8080/"
        },
        "id": "ee29df30",
        "outputId": "99593cb7-e766-4a19-b759-6b8d617febc6"
      },
      "outputs": [
        {
          "output_type": "execute_result",
          "data": {
            "text/plain": [
              "KNeighborsClassifier(n_neighbors=1)"
            ]
          },
          "metadata": {},
          "execution_count": 53
        }
      ],
      "source": [
        "from sklearn.neighbors import KNeighborsClassifier\n",
        "\n",
        "knn = KNeighborsClassifier(n_neighbors=1)\n",
        "\n",
        "knn.fit(train, y_train)"
      ]
    },
    {
      "cell_type": "code",
      "execution_count": null,
      "id": "b59ca8d4",
      "metadata": {
        "colab": {
          "base_uri": "https://localhost:8080/"
        },
        "id": "b59ca8d4",
        "outputId": "9e58ac12-310b-4e7f-aa37-237dfdac0f31"
      },
      "outputs": [
        {
          "output_type": "execute_result",
          "data": {
            "text/plain": [
              "0.666912035333088"
            ]
          },
          "metadata": {},
          "execution_count": 54
        }
      ],
      "source": [
        "Accuracy = knn.score(test, y_test)\n",
        "Accuracy"
      ]
    },
    {
      "cell_type": "code",
      "execution_count": null,
      "id": "c13ad463",
      "metadata": {
        "id": "c13ad463"
      },
      "outputs": [],
      "source": [
        "add_to_dictionary(\" k-Nearest Neighbors  with BOW\",\"none\",Accuracy)"
      ]
    },
    {
      "cell_type": "code",
      "execution_count": null,
      "id": "ca2634a2",
      "metadata": {
        "id": "ca2634a2"
      },
      "outputs": [],
      "source": [
        ""
      ]
    },
    {
      "cell_type": "markdown",
      "source": [
        "##[4.6] SGDClassifier with tf-idf"
      ],
      "metadata": {
        "id": "AZQ3ZteUm7Ba"
      },
      "id": "AZQ3ZteUm7Ba"
    },
    {
      "cell_type": "code",
      "execution_count": null,
      "metadata": {
        "id": "fvahSqinm7Bu"
      },
      "outputs": [],
      "source": [
        "## k-Nearest Neighbors"
      ],
      "id": "fvahSqinm7Bu"
    },
    {
      "cell_type": "code",
      "execution_count": null,
      "metadata": {
        "id": "sdUTa0HWm7Bv"
      },
      "outputs": [],
      "source": [
        "\n",
        "tfidf_vectorizer = TfidfVectorizer(min_df=2, max_df=0.5, ngram_range=(1, 2))\n",
        "train = tfidf_vectorizer.fit_transform(X_train[\"tweet\"].values)\n",
        "test =tfidf_vectorizer.transform(X_test[\"tweet\"].values)\n",
        "    "
      ],
      "id": "sdUTa0HWm7Bv"
    },
    {
      "cell_type": "code",
      "execution_count": null,
      "metadata": {
        "colab": {
          "base_uri": "https://localhost:8080/"
        },
        "outputId": "c2a8e852-5df4-4cf6-e87e-a55c69a8791b",
        "id": "lTNO2mdem7Bw"
      },
      "outputs": [
        {
          "output_type": "execute_result",
          "data": {
            "text/plain": [
              "SGDClassifier(random_state=42)"
            ]
          },
          "metadata": {},
          "execution_count": 58
        }
      ],
      "source": [
        "from sklearn.linear_model import SGDClassifier\n",
        "\n",
        "sgd_clf = SGDClassifier(random_state=42)\n",
        "\n",
        "sgd_clf.fit(train, y_train)"
      ],
      "id": "lTNO2mdem7Bw"
    },
    {
      "cell_type": "code",
      "execution_count": null,
      "metadata": {
        "colab": {
          "base_uri": "https://localhost:8080/"
        },
        "outputId": "5ff7cf4c-9f79-409e-dbce-8e3a74174b5f",
        "id": "hniTXa_Jm7Bw"
      },
      "outputs": [
        {
          "output_type": "execute_result",
          "data": {
            "text/plain": [
              "0.7876334192123666"
            ]
          },
          "metadata": {},
          "execution_count": 59
        }
      ],
      "source": [
        "Accuracy = sgd_clf.score(test, y_test)\n",
        "Accuracy"
      ],
      "id": "hniTXa_Jm7Bw"
    },
    {
      "cell_type": "code",
      "execution_count": null,
      "metadata": {
        "id": "6npNELCim7Bx"
      },
      "outputs": [],
      "source": [
        "add_to_dictionary(\" SGDClassifier  with tf-idf\",\"none\",Accuracy)"
      ],
      "id": "6npNELCim7Bx"
    },
    {
      "cell_type": "markdown",
      "source": [
        "## [4.7]: RandomForestClassifier with BOW"
      ],
      "metadata": {
        "id": "w2Sfs8A7o0Q1"
      },
      "id": "w2Sfs8A7o0Q1"
    },
    {
      "cell_type": "code",
      "source": [
        "vectorizer = CountVectorizer()\n",
        "train= vectorizer.fit_transform(X_train[\"tweet\"].values)\n",
        "test  = vectorizer.transform(X_test[\"tweet\"].values)"
      ],
      "metadata": {
        "id": "4rZmAgxbpgFS"
      },
      "id": "4rZmAgxbpgFS",
      "execution_count": null,
      "outputs": []
    },
    {
      "cell_type": "code",
      "source": [
        "from sklearn.ensemble import RandomForestClassifier"
      ],
      "metadata": {
        "id": "Ih-jx08Xo34J"
      },
      "id": "Ih-jx08Xo34J",
      "execution_count": null,
      "outputs": []
    },
    {
      "cell_type": "code",
      "source": [
        "orest_clf = RandomForestClassifier(random_state=42)\n",
        "orest_clf.fit(train, y_train)\n"
      ],
      "metadata": {
        "colab": {
          "base_uri": "https://localhost:8080/"
        },
        "id": "DlQESPyoo3Qn",
        "outputId": "ab95b25c-41e6-4dc0-df3a-d97dd6f3472d"
      },
      "id": "DlQESPyoo3Qn",
      "execution_count": null,
      "outputs": [
        {
          "output_type": "execute_result",
          "data": {
            "text/plain": [
              "RandomForestClassifier(random_state=42)"
            ]
          },
          "metadata": {},
          "execution_count": 63
        }
      ]
    },
    {
      "cell_type": "code",
      "execution_count": null,
      "id": "fcbb5097",
      "metadata": {
        "colab": {
          "base_uri": "https://localhost:8080/"
        },
        "id": "fcbb5097",
        "outputId": "2d443a1b-c583-4e2c-c980-d26513effe17"
      },
      "outputs": [
        {
          "output_type": "execute_result",
          "data": {
            "text/plain": [
              "0.742730953257269"
            ]
          },
          "metadata": {},
          "execution_count": 64
        }
      ],
      "source": [
        "Accuracy = orest_clf.score(test, y_test)\n",
        "Accuracy"
      ]
    },
    {
      "cell_type": "code",
      "source": [
        "add_to_dictionary(\" SGDClassifier  with tf-idf\",\"none\",Accuracy)"
      ],
      "metadata": {
        "id": "4KloDF5Fpas-"
      },
      "id": "4KloDF5Fpas-",
      "execution_count": null,
      "outputs": []
    },
    {
      "cell_type": "markdown",
      "id": "411bac0e",
      "metadata": {
        "id": "411bac0e"
      },
      "source": [
        "# Step [5]: DeepLearning Model"
      ]
    },
    {
      "cell_type": "markdown",
      "id": "ae39a54a",
      "metadata": {
        "id": "ae39a54a"
      },
      "source": [
        "## [5.1]: Simple NN model with BOW"
      ]
    },
    {
      "cell_type": "code",
      "execution_count": null,
      "id": "63820e68",
      "metadata": {
        "id": "63820e68"
      },
      "outputs": [],
      "source": [
        "vectorizer = CountVectorizer()\n",
        "train = vectorizer.fit_transform(X_train[\"tweet\"].values)\n",
        "test = vectorizer.transform(X_test[\"tweet\"].values)\n",
        "    "
      ]
    },
    {
      "cell_type": "code",
      "execution_count": null,
      "id": "86e42fa2",
      "metadata": {
        "id": "86e42fa2"
      },
      "outputs": [],
      "source": [
        "input_dim = train.shape[1]  \n",
        "\n",
        "model = tf.keras.Sequential()\n",
        "model.add(tf.keras.layers.Dense(100, input_dim=input_dim, activation='relu'))\n",
        "model.add(tf.keras.layers.Dense(10, input_dim=input_dim, activation='relu'))\n",
        "model.add(tf.keras.layers.Dense(1, activation='sigmoid'))"
      ]
    },
    {
      "cell_type": "code",
      "execution_count": null,
      "id": "c4e3bcb5",
      "metadata": {
        "colab": {
          "base_uri": "https://localhost:8080/"
        },
        "id": "c4e3bcb5",
        "outputId": "5f3ee2fd-4905-4f38-f151-30c1e52aa549"
      },
      "outputs": [
        {
          "output_type": "stream",
          "name": "stdout",
          "text": [
            "Model: \"sequential\"\n",
            "_________________________________________________________________\n",
            " Layer (type)                Output Shape              Param #   \n",
            "=================================================================\n",
            " dense (Dense)               (None, 100)               4264200   \n",
            "                                                                 \n",
            " dense_1 (Dense)             (None, 10)                1010      \n",
            "                                                                 \n",
            " dense_2 (Dense)             (None, 1)                 11        \n",
            "                                                                 \n",
            "=================================================================\n",
            "Total params: 4,265,221\n",
            "Trainable params: 4,265,221\n",
            "Non-trainable params: 0\n",
            "_________________________________________________________________\n"
          ]
        }
      ],
      "source": [
        "model.compile(loss='binary_crossentropy', \n",
        "               optimizer='adam', \n",
        "               metrics=['accuracy'])\n",
        "model.summary()"
      ]
    },
    {
      "cell_type": "code",
      "execution_count": null,
      "id": "b3953f49",
      "metadata": {
        "colab": {
          "base_uri": "https://localhost:8080/",
          "height": 1000
        },
        "id": "b3953f49",
        "outputId": "2a0d94ed-82e0-4152-b998-9a3f2b8930fd"
      },
      "outputs": [
        {
          "output_type": "stream",
          "name": "stdout",
          "text": [
            "WARNING:tensorflow:Keras is training/fitting/evaluating on array-like data. Keras may not be optimized for this format, so if your input data format is supported by TensorFlow I/O (https://github.com/tensorflow/io) we recommend using that to load a Dataset instead.\n"
          ]
        },
        {
          "output_type": "error",
          "ename": "InvalidArgumentError",
          "evalue": "ignored",
          "traceback": [
            "\u001b[0;31m---------------------------------------------------------------------------\u001b[0m",
            "\u001b[0;31mInvalidArgumentError\u001b[0m                      Traceback (most recent call last)",
            "\u001b[0;32m<ipython-input-69-207a14b8c04f>\u001b[0m in \u001b[0;36m<module>\u001b[0;34m()\u001b[0m\n\u001b[1;32m      3\u001b[0m                      \u001b[0mverbose\u001b[0m\u001b[0;34m=\u001b[0m\u001b[0;32mFalse\u001b[0m\u001b[0;34m,\u001b[0m\u001b[0;34m\u001b[0m\u001b[0;34m\u001b[0m\u001b[0m\n\u001b[1;32m      4\u001b[0m                      \u001b[0mbatch_size\u001b[0m\u001b[0;34m=\u001b[0m\u001b[0;36m10\u001b[0m\u001b[0;34m,\u001b[0m\u001b[0;34m\u001b[0m\u001b[0;34m\u001b[0m\u001b[0m\n\u001b[0;32m----> 5\u001b[0;31m                      validation_data=(test, y_test))\n\u001b[0m",
            "\u001b[0;32m/usr/local/lib/python3.7/dist-packages/keras/utils/traceback_utils.py\u001b[0m in \u001b[0;36merror_handler\u001b[0;34m(*args, **kwargs)\u001b[0m\n\u001b[1;32m     65\u001b[0m     \u001b[0;32mexcept\u001b[0m \u001b[0mException\u001b[0m \u001b[0;32mas\u001b[0m \u001b[0me\u001b[0m\u001b[0;34m:\u001b[0m  \u001b[0;31m# pylint: disable=broad-except\u001b[0m\u001b[0;34m\u001b[0m\u001b[0;34m\u001b[0m\u001b[0m\n\u001b[1;32m     66\u001b[0m       \u001b[0mfiltered_tb\u001b[0m \u001b[0;34m=\u001b[0m \u001b[0m_process_traceback_frames\u001b[0m\u001b[0;34m(\u001b[0m\u001b[0me\u001b[0m\u001b[0;34m.\u001b[0m\u001b[0m__traceback__\u001b[0m\u001b[0;34m)\u001b[0m\u001b[0;34m\u001b[0m\u001b[0;34m\u001b[0m\u001b[0m\n\u001b[0;32m---> 67\u001b[0;31m       \u001b[0;32mraise\u001b[0m \u001b[0me\u001b[0m\u001b[0;34m.\u001b[0m\u001b[0mwith_traceback\u001b[0m\u001b[0;34m(\u001b[0m\u001b[0mfiltered_tb\u001b[0m\u001b[0;34m)\u001b[0m \u001b[0;32mfrom\u001b[0m \u001b[0;32mNone\u001b[0m\u001b[0;34m\u001b[0m\u001b[0;34m\u001b[0m\u001b[0m\n\u001b[0m\u001b[1;32m     68\u001b[0m     \u001b[0;32mfinally\u001b[0m\u001b[0;34m:\u001b[0m\u001b[0;34m\u001b[0m\u001b[0;34m\u001b[0m\u001b[0m\n\u001b[1;32m     69\u001b[0m       \u001b[0;32mdel\u001b[0m \u001b[0mfiltered_tb\u001b[0m\u001b[0;34m\u001b[0m\u001b[0;34m\u001b[0m\u001b[0m\n",
            "\u001b[0;32m/usr/local/lib/python3.7/dist-packages/tensorflow/python/eager/execute.py\u001b[0m in \u001b[0;36mquick_execute\u001b[0;34m(op_name, num_outputs, inputs, attrs, ctx, name)\u001b[0m\n\u001b[1;32m     57\u001b[0m     \u001b[0mctx\u001b[0m\u001b[0;34m.\u001b[0m\u001b[0mensure_initialized\u001b[0m\u001b[0;34m(\u001b[0m\u001b[0;34m)\u001b[0m\u001b[0;34m\u001b[0m\u001b[0;34m\u001b[0m\u001b[0m\n\u001b[1;32m     58\u001b[0m     tensors = pywrap_tfe.TFE_Py_Execute(ctx._handle, device_name, op_name,\n\u001b[0;32m---> 59\u001b[0;31m                                         inputs, attrs, num_outputs)\n\u001b[0m\u001b[1;32m     60\u001b[0m   \u001b[0;32mexcept\u001b[0m \u001b[0mcore\u001b[0m\u001b[0;34m.\u001b[0m\u001b[0m_NotOkStatusException\u001b[0m \u001b[0;32mas\u001b[0m \u001b[0me\u001b[0m\u001b[0;34m:\u001b[0m\u001b[0;34m\u001b[0m\u001b[0;34m\u001b[0m\u001b[0m\n\u001b[1;32m     61\u001b[0m     \u001b[0;32mif\u001b[0m \u001b[0mname\u001b[0m \u001b[0;32mis\u001b[0m \u001b[0;32mnot\u001b[0m \u001b[0;32mNone\u001b[0m\u001b[0;34m:\u001b[0m\u001b[0;34m\u001b[0m\u001b[0;34m\u001b[0m\u001b[0m\n",
            "\u001b[0;31mInvalidArgumentError\u001b[0m:  TypeError: 'SparseTensor' object is not subscriptable\nTraceback (most recent call last):\n\n  File \"/usr/local/lib/python3.7/dist-packages/tensorflow/python/ops/script_ops.py\", line 273, in __call__\n    return func(device, token, args)\n\n  File \"/usr/local/lib/python3.7/dist-packages/tensorflow/python/ops/script_ops.py\", line 151, in __call__\n    outputs = self._call(device, args)\n\n  File \"/usr/local/lib/python3.7/dist-packages/tensorflow/python/ops/script_ops.py\", line 158, in _call\n    ret = self._func(*args)\n\n  File \"/usr/local/lib/python3.7/dist-packages/tensorflow/python/autograph/impl/api.py\", line 649, in wrapper\n    return func(*args, **kwargs)\n\n  File \"/usr/local/lib/python3.7/dist-packages/keras/engine/data_adapter.py\", line 476, in py_method\n    return [slice_array(inp) for inp in flat_inputs]\n\n  File \"/usr/local/lib/python3.7/dist-packages/keras/engine/data_adapter.py\", line 476, in <listcomp>\n    return [slice_array(inp) for inp in flat_inputs]\n\n  File \"/usr/local/lib/python3.7/dist-packages/keras/engine/data_adapter.py\", line 475, in slice_array\n    contiguous=contiguous)\n\n  File \"/usr/local/lib/python3.7/dist-packages/keras/engine/training_utils.py\", line 47, in slice_arrays\n    entries = [[x[i:i + 1] for i in indices] for x in arrays]\n\n  File \"/usr/local/lib/python3.7/dist-packages/keras/engine/training_utils.py\", line 47, in <listcomp>\n    entries = [[x[i:i + 1] for i in indices] for x in arrays]\n\n  File \"/usr/local/lib/python3.7/dist-packages/keras/engine/training_utils.py\", line 47, in <listcomp>\n    entries = [[x[i:i + 1] for i in indices] for x in arrays]\n\nTypeError: 'SparseTensor' object is not subscriptable\n\n\n\t [[{{node EagerPyFunc}}]]\n\t [[IteratorGetNext]] [Op:__inference_train_function_766]"
          ]
        }
      ],
      "source": [
        "history = model.fit(train, y_train,\n",
        "                     epochs=25,\n",
        "                     verbose=False,\n",
        "                     batch_size=10,\n",
        "                     validation_data=(test, y_test))"
      ]
    },
    {
      "cell_type": "code",
      "execution_count": null,
      "id": "a5b3eec3",
      "metadata": {
        "id": "a5b3eec3"
      },
      "outputs": [],
      "source": [
        "loss, accuracy = model.evaluate(X_train, y_train, verbose=False)\n",
        "print(\"Training Accuracy: {:.4f}\".format(accuracy))\n",
        "loss, accuracy = model.evaluate(X_test, y_test, verbose=False)\n",
        "print(\"Testing Accuracy:  {:.4f}\".format(accuracy))"
      ]
    },
    {
      "cell_type": "code",
      "execution_count": null,
      "id": "9e46cb6c",
      "metadata": {
        "id": "9e46cb6c"
      },
      "outputs": [],
      "source": [
        "import matplotlib.pyplot as plt\n",
        "plt.style.use('ggplot')\n",
        "\n",
        "def plot_history(history):\n",
        "    acc = history.history['accuracy']\n",
        "    val_acc = history.history['val_accuracy']\n",
        "    loss = history.history['loss']\n",
        "    val_loss = history.history['val_loss']\n",
        "    x = range(1, len(acc) + 1)\n",
        "\n",
        "    plt.figure(figsize=(12, 5))\n",
        "    plt.subplot(1, 2, 1)\n",
        "    plt.plot(x, acc, 'b', label='Training acc')\n",
        "    plt.plot(x, val_acc, 'r', label='Validation acc')\n",
        "    plt.title('Training and validation accuracy')\n",
        "    plt.legend()\n",
        "    plt.subplot(1, 2, 2)\n",
        "    plt.plot(x, loss, 'b', label='Training loss')\n",
        "    plt.plot(x, val_loss, 'r', label='Validation loss')\n",
        "    plt.title('Training and validation loss')\n",
        "    plt.legend()"
      ]
    },
    {
      "cell_type": "markdown",
      "source": [
        "# Step[6]: class all data with SGD classtier and tf-idf"
      ],
      "metadata": {
        "id": "-RtJfN1hqmmG"
      },
      "id": "-RtJfN1hqmmG"
    },
    {
      "cell_type": "code",
      "source": [
        "train = pd.read_csv(\"/content/drive/MyDrive/NLP H1/train.csv\",encoding='utf-8')# shearch for  encoding='utf-8'\n",
        "test = pd.read_csv(\"/content/drive/MyDrive/NLP H1/test.csv\",encoding='utf-8')\n"
      ],
      "metadata": {
        "id": "foSOiTgcq8sp"
      },
      "id": "foSOiTgcq8sp",
      "execution_count": null,
      "outputs": []
    },
    {
      "cell_type": "code",
      "source": [
        "train.dropna(inplace=True)"
      ],
      "metadata": {
        "id": "2CBYQ5ZIq8oc"
      },
      "id": "2CBYQ5ZIq8oc",
      "execution_count": null,
      "outputs": []
    },
    {
      "cell_type": "code",
      "source": [
        "y_train = train['label']\n",
        "X_train = train.drop('label',axis=1)\n",
        "y_test = test['label']\n",
        "X_test = test.drop('label',axis=1)"
      ],
      "metadata": {
        "id": "fpNdDdlwq8jn"
      },
      "id": "fpNdDdlwq8jn",
      "execution_count": null,
      "outputs": []
    },
    {
      "cell_type": "code",
      "execution_count": null,
      "metadata": {
        "id": "SQs_GYUvrWuF"
      },
      "outputs": [],
      "source": [
        "\n",
        "tfidf_vectorizer = CountVectorizer(min_df=2, max_df=0.5, ngram_range=(1, 2))\n",
        "train = tfidf_vectorizer.fit_transform(X_train[\"tweet\"].values)\n",
        "test =tfidf_vectorizer.transform(X_test[\"tweet\"].values)\n",
        "    "
      ],
      "id": "SQs_GYUvrWuF"
    },
    {
      "cell_type": "code",
      "execution_count": null,
      "metadata": {
        "colab": {
          "base_uri": "https://localhost:8080/"
        },
        "outputId": "d1a474d7-b2ed-4447-c2a8-b2e1779dc627",
        "id": "1Rp9VJACrWuZ"
      },
      "outputs": [
        {
          "output_type": "execute_result",
          "data": {
            "text/plain": [
              "SGDClassifier(random_state=42)"
            ]
          },
          "metadata": {},
          "execution_count": 74
        }
      ],
      "source": [
        "from sklearn.linear_model import SGDClassifier\n",
        "\n",
        "sgd_clf = SGDClassifier(random_state=42)\n",
        "\n",
        "sgd_clf.fit(train, y_train)"
      ],
      "id": "1Rp9VJACrWuZ"
    },
    {
      "cell_type": "code",
      "execution_count": null,
      "metadata": {
        "colab": {
          "base_uri": "https://localhost:8080/"
        },
        "outputId": "0706d85c-a639-49ad-f6dc-504213d2b2eb",
        "id": "gVId5uTOrWua"
      },
      "outputs": [
        {
          "output_type": "execute_result",
          "data": {
            "text/plain": [
              "0.5734655920644761"
            ]
          },
          "metadata": {},
          "execution_count": 75
        }
      ],
      "source": [
        "Accuracy = sgd_clf.score(test, y_test)\n",
        "Accuracy"
      ],
      "id": "gVId5uTOrWua"
    },
    {
      "cell_type": "code",
      "execution_count": null,
      "metadata": {
        "id": "QmxF8BkWrWua"
      },
      "outputs": [],
      "source": [
        "add_to_dictionary(\" SGDClassifier  with tf-idf\",\"none\",Accuracy)"
      ],
      "id": "QmxF8BkWrWua"
    },
    {
      "cell_type": "code",
      "source": [
        ""
      ],
      "metadata": {
        "id": "TzAF8JTIq8Wm"
      },
      "id": "TzAF8JTIq8Wm",
      "execution_count": null,
      "outputs": []
    },
    {
      "cell_type": "code",
      "source": [
        ""
      ],
      "metadata": {
        "id": "0R54CJfOq8LN"
      },
      "id": "0R54CJfOq8LN",
      "execution_count": null,
      "outputs": []
    },
    {
      "cell_type": "code",
      "source": [
        ""
      ],
      "metadata": {
        "id": "yDLfDDcWq79Z"
      },
      "id": "yDLfDDcWq79Z",
      "execution_count": null,
      "outputs": []
    },
    {
      "cell_type": "markdown",
      "source": [
        "# Step[7]: the Ruselt"
      ],
      "metadata": {
        "id": "BhRVmdCyqUUD"
      },
      "id": "BhRVmdCyqUUD"
    },
    {
      "cell_type": "code",
      "source": [
        ""
      ],
      "metadata": {
        "id": "KdeIjAxEqLpi"
      },
      "id": "KdeIjAxEqLpi",
      "execution_count": null,
      "outputs": []
    },
    {
      "cell_type": "code",
      "execution_count": null,
      "id": "1747f25c",
      "metadata": {
        "colab": {
          "base_uri": "https://localhost:8080/",
          "height": 359
        },
        "id": "1747f25c",
        "outputId": "fa9022ad-2279-48b3-e75e-be603f167bd0"
      },
      "outputs": [
        {
          "output_type": "execute_result",
          "data": {
            "text/html": [
              "\n",
              "  <div id=\"df-05cda0df-0a7f-4063-914b-b02797d5a2a0\">\n",
              "    <div class=\"colab-df-container\">\n",
              "      <div>\n",
              "<style scoped>\n",
              "    .dataframe tbody tr th:only-of-type {\n",
              "        vertical-align: middle;\n",
              "    }\n",
              "\n",
              "    .dataframe tbody tr th {\n",
              "        vertical-align: top;\n",
              "    }\n",
              "\n",
              "    .dataframe thead th {\n",
              "        text-align: right;\n",
              "    }\n",
              "</style>\n",
              "<table border=\"1\" class=\"dataframe\">\n",
              "  <thead>\n",
              "    <tr style=\"text-align: right;\">\n",
              "      <th></th>\n",
              "      <th>model_name</th>\n",
              "      <th>preprocessing_methods</th>\n",
              "      <th>accuracy</th>\n",
              "    </tr>\n",
              "  </thead>\n",
              "  <tbody>\n",
              "    <tr>\n",
              "      <th>0</th>\n",
              "      <td>logistic regression with bag of words</td>\n",
              "      <td>none</td>\n",
              "      <td>0.783585</td>\n",
              "    </tr>\n",
              "    <tr>\n",
              "      <th>1</th>\n",
              "      <td>logistic regression with bag of words</td>\n",
              "      <td>remove url and mintion and hashtags</td>\n",
              "      <td>0.749724</td>\n",
              "    </tr>\n",
              "    <tr>\n",
              "      <th>2</th>\n",
              "      <td>logistic regression with bag of words</td>\n",
              "      <td>remove emoji</td>\n",
              "      <td>0.775488</td>\n",
              "    </tr>\n",
              "    <tr>\n",
              "      <th>3</th>\n",
              "      <td>logistic regression with bag of words</td>\n",
              "      <td>remove stopwords</td>\n",
              "      <td>0.774752</td>\n",
              "    </tr>\n",
              "    <tr>\n",
              "      <th>4</th>\n",
              "      <td>logistic regression with ngrams bag of words</td>\n",
              "      <td>none</td>\n",
              "      <td>0.783585</td>\n",
              "    </tr>\n",
              "    <tr>\n",
              "      <th>5</th>\n",
              "      <td>logistic regression with TD-IDF</td>\n",
              "      <td>none</td>\n",
              "      <td>0.746411</td>\n",
              "    </tr>\n",
              "    <tr>\n",
              "      <th>6</th>\n",
              "      <td>k-Nearest Neighbors  with BOW</td>\n",
              "      <td>none</td>\n",
              "      <td>0.666912</td>\n",
              "    </tr>\n",
              "    <tr>\n",
              "      <th>7</th>\n",
              "      <td>SGDClassifier  with tf-idf</td>\n",
              "      <td>none</td>\n",
              "      <td>0.787633</td>\n",
              "    </tr>\n",
              "    <tr>\n",
              "      <th>8</th>\n",
              "      <td>SGDClassifier  with tf-idf</td>\n",
              "      <td>none</td>\n",
              "      <td>0.742731</td>\n",
              "    </tr>\n",
              "    <tr>\n",
              "      <th>9</th>\n",
              "      <td>SGDClassifier  with tf-idf</td>\n",
              "      <td>none</td>\n",
              "      <td>0.573466</td>\n",
              "    </tr>\n",
              "  </tbody>\n",
              "</table>\n",
              "</div>\n",
              "      <button class=\"colab-df-convert\" onclick=\"convertToInteractive('df-05cda0df-0a7f-4063-914b-b02797d5a2a0')\"\n",
              "              title=\"Convert this dataframe to an interactive table.\"\n",
              "              style=\"display:none;\">\n",
              "        \n",
              "  <svg xmlns=\"http://www.w3.org/2000/svg\" height=\"24px\"viewBox=\"0 0 24 24\"\n",
              "       width=\"24px\">\n",
              "    <path d=\"M0 0h24v24H0V0z\" fill=\"none\"/>\n",
              "    <path d=\"M18.56 5.44l.94 2.06.94-2.06 2.06-.94-2.06-.94-.94-2.06-.94 2.06-2.06.94zm-11 1L8.5 8.5l.94-2.06 2.06-.94-2.06-.94L8.5 2.5l-.94 2.06-2.06.94zm10 10l.94 2.06.94-2.06 2.06-.94-2.06-.94-.94-2.06-.94 2.06-2.06.94z\"/><path d=\"M17.41 7.96l-1.37-1.37c-.4-.4-.92-.59-1.43-.59-.52 0-1.04.2-1.43.59L10.3 9.45l-7.72 7.72c-.78.78-.78 2.05 0 2.83L4 21.41c.39.39.9.59 1.41.59.51 0 1.02-.2 1.41-.59l7.78-7.78 2.81-2.81c.8-.78.8-2.07 0-2.86zM5.41 20L4 18.59l7.72-7.72 1.47 1.35L5.41 20z\"/>\n",
              "  </svg>\n",
              "      </button>\n",
              "      \n",
              "  <style>\n",
              "    .colab-df-container {\n",
              "      display:flex;\n",
              "      flex-wrap:wrap;\n",
              "      gap: 12px;\n",
              "    }\n",
              "\n",
              "    .colab-df-convert {\n",
              "      background-color: #E8F0FE;\n",
              "      border: none;\n",
              "      border-radius: 50%;\n",
              "      cursor: pointer;\n",
              "      display: none;\n",
              "      fill: #1967D2;\n",
              "      height: 32px;\n",
              "      padding: 0 0 0 0;\n",
              "      width: 32px;\n",
              "    }\n",
              "\n",
              "    .colab-df-convert:hover {\n",
              "      background-color: #E2EBFA;\n",
              "      box-shadow: 0px 1px 2px rgba(60, 64, 67, 0.3), 0px 1px 3px 1px rgba(60, 64, 67, 0.15);\n",
              "      fill: #174EA6;\n",
              "    }\n",
              "\n",
              "    [theme=dark] .colab-df-convert {\n",
              "      background-color: #3B4455;\n",
              "      fill: #D2E3FC;\n",
              "    }\n",
              "\n",
              "    [theme=dark] .colab-df-convert:hover {\n",
              "      background-color: #434B5C;\n",
              "      box-shadow: 0px 1px 3px 1px rgba(0, 0, 0, 0.15);\n",
              "      filter: drop-shadow(0px 1px 2px rgba(0, 0, 0, 0.3));\n",
              "      fill: #FFFFFF;\n",
              "    }\n",
              "  </style>\n",
              "\n",
              "      <script>\n",
              "        const buttonEl =\n",
              "          document.querySelector('#df-05cda0df-0a7f-4063-914b-b02797d5a2a0 button.colab-df-convert');\n",
              "        buttonEl.style.display =\n",
              "          google.colab.kernel.accessAllowed ? 'block' : 'none';\n",
              "\n",
              "        async function convertToInteractive(key) {\n",
              "          const element = document.querySelector('#df-05cda0df-0a7f-4063-914b-b02797d5a2a0');\n",
              "          const dataTable =\n",
              "            await google.colab.kernel.invokeFunction('convertToInteractive',\n",
              "                                                     [key], {});\n",
              "          if (!dataTable) return;\n",
              "\n",
              "          const docLinkHtml = 'Like what you see? Visit the ' +\n",
              "            '<a target=\"_blank\" href=https://colab.research.google.com/notebooks/data_table.ipynb>data table notebook</a>'\n",
              "            + ' to learn more about interactive tables.';\n",
              "          element.innerHTML = '';\n",
              "          dataTable['output_type'] = 'display_data';\n",
              "          await google.colab.output.renderOutput(dataTable, element);\n",
              "          const docLink = document.createElement('div');\n",
              "          docLink.innerHTML = docLinkHtml;\n",
              "          element.appendChild(docLink);\n",
              "        }\n",
              "      </script>\n",
              "    </div>\n",
              "  </div>\n",
              "  "
            ],
            "text/plain": [
              "                                     model_name  ...  accuracy\n",
              "0         logistic regression with bag of words  ...  0.783585\n",
              "1         logistic regression with bag of words  ...  0.749724\n",
              "2         logistic regression with bag of words  ...  0.775488\n",
              "3         logistic regression with bag of words  ...  0.774752\n",
              "4  logistic regression with ngrams bag of words  ...  0.783585\n",
              "5               logistic regression with TD-IDF  ...  0.746411\n",
              "6                 k-Nearest Neighbors  with BOW  ...  0.666912\n",
              "7                    SGDClassifier  with tf-idf  ...  0.787633\n",
              "8                    SGDClassifier  with tf-idf  ...  0.742731\n",
              "9                    SGDClassifier  with tf-idf  ...  0.573466\n",
              "\n",
              "[10 rows x 3 columns]"
            ]
          },
          "metadata": {},
          "execution_count": 77
        }
      ],
      "source": [
        "df = pd.DataFrame(model_comparison_table)\n",
        "df"
      ]
    },
    {
      "cell_type": "code",
      "execution_count": null,
      "id": "382f9a49",
      "metadata": {
        "id": "382f9a49"
      },
      "outputs": [],
      "source": [
        "df.to_csv(\"[ريما السهلي].csv\", index=False)"
      ]
    }
  ],
  "metadata": {
    "kernelspec": {
      "display_name": "Python 3 (ipykernel)",
      "language": "python",
      "name": "python3"
    },
    "language_info": {
      "codemirror_mode": {
        "name": "ipython",
        "version": 3
      },
      "file_extension": ".py",
      "mimetype": "text/x-python",
      "name": "python",
      "nbconvert_exporter": "python",
      "pygments_lexer": "ipython3",
      "version": "3.8.10"
    },
    "colab": {
      "name": "NLP HOMEWORK - PART 5 BY [ريما السهلي].ipynb",
      "provenance": []
    }
  },
  "nbformat": 4,
  "nbformat_minor": 5
}